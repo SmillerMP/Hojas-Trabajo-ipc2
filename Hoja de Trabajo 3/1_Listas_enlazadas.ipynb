{
  "nbformat": 4,
  "nbformat_minor": 0,
  "metadata": {
    "colab": {
      "provenance": []
    },
    "kernelspec": {
      "name": "python3",
      "display_name": "Python 3"
    },
    "language_info": {
      "name": "python"
    }
  },
  "cells": [
    {
      "cell_type": "markdown",
      "source": [
        "# Listas enlazadas\n",
        "\n",
        "definicion de la clase receta\n"
      ],
      "metadata": {
        "id": "PR_hVay9i1u7"
      }
    },
    {
      "cell_type": "code",
      "source": [
        "class receta:\n",
        "  def __init__(self, paciente, fechaNacimiento, doctor, colegiado, fechaCita, horaCita, tipoConsulta, tratamiento): \n",
        "    self.paciente = paciente\n",
        "    self.fechaNacimiento = fechaNacimiento\n",
        "    self.doctor = doctor\n",
        "    self.colegiado = colegiado\n",
        "    self.fechaCita = fechaCita\n",
        "    self.horaCita = horaCita\n",
        "    self.tipoConsulta = tipoConsulta\n",
        "    self.tratamiento = tratamiento\n",
        "    \n"
      ],
      "metadata": {
        "id": "YsjDw8GajdiC"
      },
      "execution_count": 64,
      "outputs": []
    },
    {
      "cell_type": "markdown",
      "source": [
        "# Definicion de Class Nodo"
      ],
      "metadata": {
        "id": "NLxOiauxlroq"
      }
    },
    {
      "cell_type": "code",
      "source": [
        "class nodo:\n",
        "  def __init__(self, receta=None, siguiente=None): \n",
        "    self.receta = receta\n",
        "    self.siguiente = siguiente\n"
      ],
      "metadata": {
        "id": "MbY9umk6lpKX"
      },
      "execution_count": 65,
      "outputs": []
    },
    {
      "cell_type": "markdown",
      "source": [
        "# Definicion de la clase lista Enlazada"
      ],
      "metadata": {
        "id": "CJOHEQ37qceF"
      }
    },
    {
      "cell_type": "code",
      "source": [
        "class listaEnlazada:\n",
        "  def __init__(self):\n",
        "    self.primero = None\n",
        "\n",
        "  \n",
        "  def insertar(self, receta):\n",
        "    if self.primero == None:\n",
        "      self.primero = nodo(receta = receta)\n",
        "      return\n",
        "\n",
        "      #actual es una variable que guarda a primero\n",
        "    actual = self.primero\n",
        "    #actual.siguiente es iugla a decir actual.siguiente != None\n",
        "    while actual.siguiente:\n",
        "\n",
        "      #actual ahora guarda el siguiente nodo, actual es un nodo que tiene datos y siguiente\n",
        "      actual = actual.siguiente\n",
        "\n",
        "    #accedemos al apuntador siguiente y le cambiamos el valor \n",
        "    #el receta de la izquierda es de la clase nodo, receta y el de la derecha es el valor de listaEnlazada\n",
        "    actual.siguiente = nodo(receta = receta)\n",
        "\n",
        "\n",
        "\n",
        "  # Recorrer para imprimir los nodos\n",
        "  def recorrer(self):\n",
        "    actual = self.primero\n",
        "\n",
        "    while actual != None:\n",
        "      print(\"Paciente: \", actual.receta.paciente, \"| Fecha de Nacimiento:\", actual.receta.fechaNacimiento, \"| Doctor: \", actual.receta.doctor, \n",
        "            \"| Colegiado: \", actual.receta.colegiado, \"| Fecha de la Cita: \", actual.receta.fechaCita, \"| Hora de la cita: \", actual.receta.horaCita, \n",
        "            \"| Tipo de consulta: \", actual.receta.tipoConsulta, \"| Tratamiento: \", actual.receta.tratamiento)\n",
        "\n",
        "      # Nos pasamos al siguiente apuntador y asi de modo que llegue a vacio\n",
        "      actual = actual.siguiente\n",
        "\n",
        "\n",
        "  # Busqueda y desvinculacion de nodo\n",
        "  def eliminar(self, colegiado, fechaCita, horaCita):\n",
        "    actual = self.primero\n",
        "    anterior = None\n",
        "\n",
        "    while (actual != None and actual.receta.colegiado != colegiado and actual.receta.fechaCita != fechaCita and actual.receta.horaCita != horaCita):\n",
        "      anterior = actual\n",
        "      actual = actual.siguiente\n",
        "\n",
        "\n",
        "    if anterior == None:\n",
        "      self.primero = actual.siguiente\n",
        "      actual.siguiente = None\n",
        "\n",
        "    elif actual:\n",
        "      anterior.siguiente = actual.siguiente\n",
        "      actual.siguiente = None \n",
        "\n",
        "\n",
        "  def modificar(self, paciente, fechaCita, horaCita):\n",
        "        actual = self.primero\n",
        "\n",
        "        while actual != None:\n",
        "            if actual.receta.paciente == paciente:\n",
        "                actual.receta.fechaCita = fechaCita\n",
        "                actual.receta.horaCita = horaCita\n",
        "                return None\n",
        "            actual = actual.siguiente\n",
        "\n",
        "\n",
        "\n",
        "\n",
        "      \n",
        "\n",
        "\n"
      ],
      "metadata": {
        "id": "ikFE-XaEqhKE"
      },
      "execution_count": 66,
      "outputs": []
    },
    {
      "cell_type": "markdown",
      "source": [
        "# Creacion de Objetos Receta"
      ],
      "metadata": {
        "id": "7Gu8G86Fx3Em"
      }
    },
    {
      "cell_type": "code",
      "source": [
        "r1 = receta(\"Gerson López\", \"03-10-1990\", \"Melvin Ortiz\", 20156, \"17-01-2023\", \"11:30\", \"Medicina General\", \"2 pildoras de acetaminofen cada 6 horas\")\n",
        "r2 = receta(\"Karen Gómez\", \"08-05-2000\", \"Jorge Merida\", 8567, \"31-01-2023\", \"09:00\", \"Medicina interna\", \"Tylenol de 20 ml cada 4 horas\")\n",
        "r3 = receta(\"Luis García\", \"17-09-1987\", \"Melvin Ortiz\", 20156, \"02-02-2023\", \"12:00\", \"Medicina general\", \"2 cucharadas de Pepto-Bismol cada hora hasta que la diarrea desaparezca\")"
      ],
      "metadata": {
        "id": "cn1MAlFox1wL"
      },
      "execution_count": 67,
      "outputs": []
    },
    {
      "cell_type": "markdown",
      "source": [
        "## **Incersion**"
      ],
      "metadata": {
        "id": "Z83100G0yrkO"
      }
    },
    {
      "cell_type": "code",
      "source": [
        "lista_e = listaEnlazada()\n",
        "lista_e.insertar(r1)\n",
        "lista_e.insertar(r2)\n",
        "lista_e.insertar(r3)\n"
      ],
      "metadata": {
        "id": "DVfU9CSiyvPe"
      },
      "execution_count": 68,
      "outputs": []
    },
    {
      "cell_type": "markdown",
      "source": [
        "## **Recorrer**"
      ],
      "metadata": {
        "id": "4xHVQ-NIyTmO"
      }
    },
    {
      "cell_type": "code",
      "source": [
        "lista_e.recorrer()"
      ],
      "metadata": {
        "colab": {
          "base_uri": "https://localhost:8080/"
        },
        "id": "XMPM16VkycLF",
        "outputId": "52914ead-884f-4b1d-fb47-356f4fe3729a"
      },
      "execution_count": 69,
      "outputs": [
        {
          "output_type": "stream",
          "name": "stdout",
          "text": [
            "Paciente:  Gerson López | Fecha de Nacimiento: 03-10-1990 | Doctor:  Melvin Ortiz | Colegiado:  20156 | Fecha de la Cita:  17-01-2023 | Hora de la cita:  11:30 | Tipo de consulta:  Medicina General | Tratamiento:  2 pildoras de acetaminofen cada 6 horas\n",
            "Paciente:  Karen Gómez | Fecha de Nacimiento: 08-05-2000 | Doctor:  Jorge Merida | Colegiado:  8567 | Fecha de la Cita:  31-01-2023 | Hora de la cita:  09:00 | Tipo de consulta:  Medicina interna | Tratamiento:  Tylenol de 20 ml cada 4 horas\n",
            "Paciente:  Luis García | Fecha de Nacimiento: 17-09-1987 | Doctor:  Melvin Ortiz | Colegiado:  20156 | Fecha de la Cita:  02-02-2023 | Hora de la cita:  12:00 | Tipo de consulta:  Medicina general | Tratamiento:  2 cucharadas de Pepto-Bismol cada hora hasta que la diarrea desaparezca\n"
          ]
        }
      ]
    },
    {
      "cell_type": "markdown",
      "source": [
        "# **Eliminar**"
      ],
      "metadata": {
        "id": "pU_oMjmTnt7y"
      }
    },
    {
      "cell_type": "code",
      "source": [
        "#lista_e.eliminar(20156, \"17-01-2023\", \"11:30\")"
      ],
      "metadata": {
        "id": "I9N_kSGontYv"
      },
      "execution_count": 70,
      "outputs": []
    },
    {
      "cell_type": "code",
      "source": [
        "lista_e.recorrer()"
      ],
      "metadata": {
        "colab": {
          "base_uri": "https://localhost:8080/"
        },
        "id": "3bcRmmaNohjR",
        "outputId": "a664a269-01d6-447b-d0da-f00b8449d460"
      },
      "execution_count": 71,
      "outputs": [
        {
          "output_type": "stream",
          "name": "stdout",
          "text": [
            "Paciente:  Gerson López | Fecha de Nacimiento: 03-10-1990 | Doctor:  Melvin Ortiz | Colegiado:  20156 | Fecha de la Cita:  17-01-2023 | Hora de la cita:  11:30 | Tipo de consulta:  Medicina General | Tratamiento:  2 pildoras de acetaminofen cada 6 horas\n",
            "Paciente:  Karen Gómez | Fecha de Nacimiento: 08-05-2000 | Doctor:  Jorge Merida | Colegiado:  8567 | Fecha de la Cita:  31-01-2023 | Hora de la cita:  09:00 | Tipo de consulta:  Medicina interna | Tratamiento:  Tylenol de 20 ml cada 4 horas\n",
            "Paciente:  Luis García | Fecha de Nacimiento: 17-09-1987 | Doctor:  Melvin Ortiz | Colegiado:  20156 | Fecha de la Cita:  02-02-2023 | Hora de la cita:  12:00 | Tipo de consulta:  Medicina general | Tratamiento:  2 cucharadas de Pepto-Bismol cada hora hasta que la diarrea desaparezca\n"
          ]
        }
      ]
    },
    {
      "cell_type": "markdown",
      "source": [
        "## **Modificar**"
      ],
      "metadata": {
        "id": "FCJJ2FDPMU5m"
      }
    },
    {
      "cell_type": "code",
      "source": [
        "lista_e.modificar('Gerson López',\"20-02-2023\",\"Hora de la cita:  14:20\")"
      ],
      "metadata": {
        "id": "jfmOAqLVMX1i"
      },
      "execution_count": 74,
      "outputs": []
    },
    {
      "cell_type": "code",
      "source": [
        "lista_e.recorrer()"
      ],
      "metadata": {
        "colab": {
          "base_uri": "https://localhost:8080/"
        },
        "id": "DZHINXnSNOK4",
        "outputId": "cd3c8ef7-8cc5-46ca-f93d-ab589d31ab4c"
      },
      "execution_count": 75,
      "outputs": [
        {
          "output_type": "stream",
          "name": "stdout",
          "text": [
            "Paciente:  Gerson López | Fecha de Nacimiento: 03-10-1990 | Doctor:  Melvin Ortiz | Colegiado:  20156 | Fecha de la Cita:  20-02-2023 | Hora de la cita:  Hora de la cita:  14:20 | Tipo de consulta:  Medicina General | Tratamiento:  2 pildoras de acetaminofen cada 6 horas\n",
            "Paciente:  Karen Gómez | Fecha de Nacimiento: 08-05-2000 | Doctor:  Jorge Merida | Colegiado:  8567 | Fecha de la Cita:  31-01-2023 | Hora de la cita:  09:00 | Tipo de consulta:  Medicina interna | Tratamiento:  Tylenol de 20 ml cada 4 horas\n",
            "Paciente:  Luis García | Fecha de Nacimiento: 17-09-1987 | Doctor:  Melvin Ortiz | Colegiado:  20156 | Fecha de la Cita:  02-02-2023 | Hora de la cita:  12:00 | Tipo de consulta:  Medicina general | Tratamiento:  2 cucharadas de Pepto-Bismol cada hora hasta que la diarrea desaparezca\n"
          ]
        }
      ]
    }
  ]
}